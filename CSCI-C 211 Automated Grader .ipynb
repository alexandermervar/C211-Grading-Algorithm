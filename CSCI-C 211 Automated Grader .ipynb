{
 "cells": [
  {
   "cell_type": "markdown",
   "metadata": {},
   "source": [
    "CSCI-C 211 Automated Grader  \n",
    "By: Alexander Mervar  \n",
    "https://github.com/alexandermervar  \n",
    "  \n",
    "The following code is for CSCI-C 211 grading at Indiana University.  \n",
    "  \n",
    "As you may notice, many rubrics have a line similar to \"Grade: minimum of (points * .24) and 10\"  \n",
    "The math involved can sometimes be a little repetitive and tedious  \n",
    "The program looks to speed up this process  \n",
    "Run program to begin user inputs  \n",
    "  \n",
    "Best Wishes :)\n"
   ]
  },
  {
   "cell_type": "markdown",
   "metadata": {},
   "source": [
    "Example:  \n",
    "\"Number of possible points: 47  \n",
    "Grade: minimum of (points * .24) and 10\"  \n",
    "  \n",
    "Input Raw Max Points: 47  \n",
    "Input Point Multiplier: .24  "
   ]
  },
  {
   "cell_type": "code",
   "execution_count": 9,
   "metadata": {},
   "outputs": [
    {
     "name": "stdout",
     "output_type": "stream",
     "text": [
      "Welcome to the CSCI-C 211 Grader! \n",
      " Input the string \"end\" after the setup to end the task.\n",
      "Input Raw Max Points: 47\n",
      "Input Point Multiplier: .24\n",
      "Input Total Raw Points the First Student Has Lost: 40\n",
      "Score: 1.68\n",
      "Input Total Raw Points the Next Student Has Lost: end\n",
      "\n",
      "Thank You!\n"
     ]
    }
   ],
   "source": [
    "maxFinalScore = 10\n",
    "\n",
    "print('Welcome to the CSCI-C 211 Grader! \\n Input the string \"end\" after the setup to end the task.')\n",
    "\n",
    "maxPoints = int(input(\"Input Raw Max Points: \"))\n",
    "\n",
    "multiplier = float(input(\"Input Point Multiplier: \"))\n",
    "\n",
    "studentPoints = input(\"Input Total Raw Points the First Student Has Lost: \")\n",
    "\n",
    "while studentPoints != \"end\":\n",
    "    print(\"Score: \" + str(min((maxPoints - int(studentPoints)) * multiplier, maxFinalScore)))\n",
    "    studentPoints = input(\"Input Total Raw Points the Next Student Has Lost: \")\n",
    "    \n",
    "print()\n",
    "print(\"Thank You!\")\n"
   ]
  }
 ],
 "metadata": {
  "kernelspec": {
   "display_name": "Python 3",
   "language": "python",
   "name": "python3"
  },
  "language_info": {
   "codemirror_mode": {
    "name": "ipython",
    "version": 3
   },
   "file_extension": ".py",
   "mimetype": "text/x-python",
   "name": "python",
   "nbconvert_exporter": "python",
   "pygments_lexer": "ipython3",
   "version": "3.8.5"
  }
 },
 "nbformat": 4,
 "nbformat_minor": 4
}
